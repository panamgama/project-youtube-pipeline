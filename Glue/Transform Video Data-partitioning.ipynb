{
	"cells": [
		{
			"cell_type": "markdown",
			"metadata": {
				"editable": true,
				"trusted": true
			},
			"source": [
				"# Transform Video Data with partitions - Notebook"
			]
		},
		{
			"cell_type": "markdown",
			"metadata": {
				"editable": true,
				"trusted": true
			},
			"source": [
				"####  Set up and start session\n"
			]
		},
		{
			"cell_type": "code",
			"execution_count": 1,
			"metadata": {
				"editable": true,
				"trusted": true,
				"vscode": {
					"languageId": "python_glue_session"
				}
			},
			"outputs": [
				{
					"name": "stdout",
					"output_type": "stream",
					"text": [
						"Welcome to the Glue Interactive Sessions Kernel\n",
						"For more information on available magic commands, please type %help in any new cell.\n",
						"\n",
						"Please view our Getting Started page to access the most up-to-date information on the Interactive Sessions kernel: https://docs.aws.amazon.com/glue/latest/dg/interactive-sessions.html\n",
						"Installed kernel version: 1.0.7 \n",
						"Current idle_timeout is None minutes.\n",
						"idle_timeout has been set to 2880 minutes.\n",
						"Setting Glue version to: 5.0\n",
						"Previous worker type: None\n",
						"Setting new worker type to: G.1X\n",
						"Previous number of workers: None\n",
						"Setting new number of workers to: 5\n",
						"Trying to create a Glue session for the kernel.\n",
						"Session Type: glueetl\n",
						"Worker Type: G.1X\n",
						"Number of Workers: 5\n",
						"Idle Timeout: 2880\n",
						"Session ID: ef157b2b-7773-4275-a251-6a970b44891c\n",
						"Applying the following default arguments:\n",
						"--glue_kernel_version 1.0.7\n",
						"--enable-glue-datacatalog true\n",
						"Waiting for session ef157b2b-7773-4275-a251-6a970b44891c to get into ready status...\n",
						"Session ef157b2b-7773-4275-a251-6a970b44891c has been created.\n",
						"\n"
					]
				}
			],
			"source": [
				"%idle_timeout 2880\n",
				"%glue_version 5.0\n",
				"%worker_type G.1X\n",
				"%number_of_workers 5\n",
				"\n",
				"import sys\n",
				"from awsglue.transforms import *\n",
				"from awsglue.utils import getResolvedOptions\n",
				"from pyspark.context import SparkContext\n",
				"from awsglue.context import GlueContext\n",
				"from awsglue.job import Job\n",
				"from awsglue.dynamicframe import DynamicFrame\n",
				"from pyspark.sql.functions import col, to_timestamp, date_format, from_utc_timestamp, to_utc_timestamp,to_date, date_format, regexp_extract, coalesce, lit, size, when, year, month, dayofmonth\n",
				"from pyspark.sql.types import IntegerType\n",
				"  \n",
				"sc = SparkContext.getOrCreate()\n",
				"glueContext = GlueContext(sc)\n",
				"spark = glueContext.spark_session\n",
				"job = Job(glueContext)"
			]
		},
		{
			"cell_type": "code",
			"execution_count": 2,
			"metadata": {
				"tags": [],
				"trusted": true,
				"vscode": {
					"languageId": "python_glue_session"
				}
			},
			"outputs": [
				{
					"name": "stdout",
					"output_type": "stream",
					"text": [
						"\n"
					]
				}
			],
			"source": [
				"def format_video_df(base_df):\n",
				"    \"\"\"\n",
				"    Format table containing details of YT videos\n",
				"    \"\"\"\n",
				"    # Numeric columns\n",
				"    numeric_cols = ['viewCount', 'likeCount', 'commentCount']\n",
				"    # Time columns\n",
				"    time_cols = ['duration']\n",
				"    # Date columns\n",
				"    date_cols = ['publishedAt']\n",
				"    \n",
				"    # Convert numeric columns to numeric format\n",
				"    for col_name in numeric_cols:\n",
				"        base_df = base_df.withColumn(col_name, col(col_name).cast(IntegerType()))\n",
				"    \n",
				"    # Convert date columns\n",
				"    for col_name in date_cols:\n",
				"        \n",
				"        # Convert to UTC date time\n",
				"        base_df = base_df.withColumn(f'{col_name}_in_utc', to_utc_timestamp(col(col_name), 'UTC'))\n",
				"        \n",
				"        # Convert to UTC date\n",
				"        base_df = base_df.withColumn(f'{col_name}_utc_date', to_date(to_utc_timestamp(col(col_name), 'UTC')))\n",
				"        \n",
				"        # Convert to UTC and extract only the time\n",
				"        base_df = base_df.withColumn(f'{col_name}_utc_time', date_format(to_utc_timestamp(col(col_name), 'UTC'), 'HH:mm:ss'))\n",
				"        \n",
				"        # Extract timezone (if timezone exists in the original datetime)\n",
				"        base_df = base_df.withColumn(f'{col_name}_timezone', date_format(col(col_name), 'z'))  # 'z' gives the timezone abbreviation\n",
				"    \n",
				"    # Convert time columns\n",
				"    for col_name in time_cols:\n",
				"        # Extract hours, minutes, and seconds from the duration string (ISO 8601 format)\n",
				"        hours = coalesce(regexp_extract(col(col_name), r'PT(\\d+)H', 1).cast('int'), lit(0))\n",
				"        minutes = coalesce(regexp_extract(col(col_name), r'(\\d+)M', 1).cast('int'), lit(0))\n",
				"        seconds = coalesce(regexp_extract(col(col_name), r'(\\d+)S', 1).cast('int'), lit(0))\n",
				"\n",
				"        # Calculate total seconds (assuming hours, minutes, and seconds exist in the duration)\n",
				"        base_df = base_df.withColumn(f'{col_name}_seconds_total', (hours * 3600) + (minutes * 60) + seconds)  \n",
				"    \n",
				"    # Counting tags (using size function to count the number of elements in an array column)\n",
				"    # coalesce gives -1 when size = 0. Therefor when/ otherwise will be used\n",
				"    base_df = base_df.withColumn('tagsCount', \n",
				"                                     when(col('tags').isNull(), lit(0)).otherwise(size(col('tags')))\n",
				"                                )\n",
				"    \n",
				"    # Calculating likeRatio and commentRatio per 1000 views\n",
				"    base_df = base_df.withColumn('likeRatio', \n",
				"                                 (col('likeCount') / col('viewCount') * 1000).cast('float'))\n",
				"    base_df = base_df.withColumn('commentRatio', \n",
				"                                 (col('commentCount') / col('viewCount') * 1000).cast('float'))\n",
				"\n",
				"    # Seperating year, month and date of Extraction Date - allowing partitioning\n",
				"    base_df = base_df.withColumn('extractYear',year(col('extractDate')))\n",
				"    base_df = base_df.withColumn('extractMonth',month(col('extractDate')))\n",
				"    base_df = base_df.withColumn(\"extractDay\", dayofmonth(col(\"extractDate\")))\n",
				"    \n",
				"    # Drop original date columns with timezone\n",
				"    return base_df.drop(*date_cols)"
			]
		},
		{
			"cell_type": "markdown",
			"metadata": {
				"editable": true,
				"trusted": true
			},
			"source": [
				"#### Configuring current date to read from S3 bucket"
			]
		},
		{
			"cell_type": "code",
			"execution_count": 5,
			"metadata": {
				"tags": [],
				"trusted": true,
				"vscode": {
					"languageId": "python_glue_session"
				}
			},
			"outputs": [
				{
					"name": "stdout",
					"output_type": "stream",
					"text": [
						"'2025/03/09'\n"
					]
				}
			],
			"source": [
				"from datetime import datetime\n",
				"current_date = datetime.now().strftime(\"%Y/%m/%d\")\n",
				"#current_date = \"2025/03/09\"\n",
				"current_date"
			]
		},
		{
			"cell_type": "code",
			"execution_count": 4,
			"metadata": {
				"tags": [],
				"trusted": true,
				"vscode": {
					"languageId": "python_glue_session"
				}
			},
			"outputs": [
				{
					"name": "stdout",
					"output_type": "stream",
					"text": [
						"'s3://youtube-channel-data-v1-02032025/raw/2025/03/09/video_data.parquet'\n"
					]
				}
			],
			"source": [
				"s3_path_raw = f\"s3://youtube-channel-data-v1-02032025/raw/{current_date}/video_data.parquet\"\n",
				"s3_path_raw"
			]
		},
		{
			"cell_type": "markdown",
			"metadata": {},
			"source": [
				"#### Reading from S3 bucket"
			]
		},
		{
			"cell_type": "code",
			"execution_count": 6,
			"metadata": {
				"tags": [],
				"trusted": true,
				"vscode": {
					"languageId": "python_glue_session"
				}
			},
			"outputs": [
				{
					"name": "stdout",
					"output_type": "stream",
					"text": [
						"\n"
					]
				}
			],
			"source": [
				"dynamic_frame = glueContext.create_dynamic_frame.from_options(\n",
				"    connection_type=\"s3\",  # Source type\n",
				"    connection_options={\"paths\": [s3_path_raw]},  # Path to the S3 raw data\n",
				"    format=\"parquet\"  # Specify the format of the data (parquet in this case)\n",
				")"
			]
		},
		{
			"cell_type": "code",
			"execution_count": 7,
			"metadata": {
				"tags": [],
				"trusted": true,
				"vscode": {
					"languageId": "python_glue_session"
				}
			},
			"outputs": [
				{
					"name": "stdout",
					"output_type": "stream",
					"text": [
						"/usr/lib/spark/python/lib/pyspark.zip/pyspark/sql/dataframe.py:147: UserWarning: DataFrame constructor is internal. Do not directly use it.\n"
					]
				}
			],
			"source": [
				"# Convert DynamicFrame to DataFrame for processing\n",
				"df = dynamic_frame.toDF()"
			]
		},
		{
			"cell_type": "code",
			"execution_count": 8,
			"metadata": {
				"tags": [],
				"trusted": true,
				"vscode": {
					"languageId": "python_glue_session"
				}
			},
			"outputs": [
				{
					"name": "stdout",
					"output_type": "stream",
					"text": [
						"+-----------+--------------------+--------------------+--------------------+--------------------+---------+---------+-------------+------------+--------+----------+-------+-----------+--------------------+\n",
						"|    videoId|               title|         description|                tags|         publishedAt|viewCount|likeCount|favoriteCount|commentCount|duration|definition|caption|extractDate|           channelId|\n",
						"+-----------+--------------------+--------------------+--------------------+--------------------+---------+---------+-------------+------------+--------+----------+-------+-----------+--------------------+\n",
						"|7uH7_DThtX0|Top 3 Tips on Usi...|Best Tips on how ...|[Data Analyst, Ho...|2020-11-17T14:11:52Z|   331086|    11809|            0|         247| PT6M50S|        hd|  false| 2025-03-09|UC7cs8q-gJRlGwj4A...|\n",
						"|lVj0RlSxTXk|Best Online Cours...|According to a re...|[big data, data a...|2021-04-15T14:00:28Z|    67210|     2714|            0|         131|PT13M23S|        hd|  false| 2025-03-09|UCmLGJ3VYBcfRaWbP...|\n",
						"|SA7S050n58s|Andrew Ng’s AI Py...|Enroll now: https...|                NULL|2024-09-04T15:43:15Z|    12726|      310|            0|          10| PT3M41S|        hd|  false| 2025-03-09|UCcIXc5mJsHVYTZR1...|\n",
						"|Ejou8aa5eZk|How Many Rubber B...|I CAN'T BELIEVE T...|      [rubber bands]|2018-05-22T22:14:01Z| 37325501|   917000|            0|       44269|PT10M16S|        hd|   true| 2025-03-09|UCX6OQ3DkcsbYNE6H...|\n",
						"|sE3ZZmYotSs|Call of Duty Ghos...|The video pretty ...|[Black, ops, two,...|2013-07-30T20:51:42Z|   116757|     4061|            0|         578| PT3M50S|        hd|  false| 2025-03-09|UCX6OQ3DkcsbYNE6H...|\n",
						"|OnTTThIzuNU|Keep Track Of Car...|                    |                NULL|2024-03-19T16:00:00Z|151859825|  7436485|            0|       82987|   PT51S|        hd|  false| 2025-03-09|UCX6OQ3DkcsbYNE6H...|\n",
						"|55xKTezZqFo|Which Cloud Shoul...|Which cloud is be...|[aws vs azure vs ...|2022-08-25T14:51:38Z|    23783|      500|            0|          38| PT4M30S|        hd|  false| 2025-03-09|UCmLGJ3VYBcfRaWbP...|\n",
						"|osA1QpBcxRs|Nobody cares... s...|                    |                NULL|2024-10-24T12:17:57Z|    15691|     1626|            0|          58|   PT36S|        hd|  false| 2025-03-09|UC7cs8q-gJRlGwj4A...|\n",
						"|79UqdjnPEZ0|#8 Machine Learni...|The Machine Learn...|                NULL|2022-04-21T00:00:22Z|    20851|      202|            0|           0| PT9M33S|        hd|  false| 2025-03-09|UCcIXc5mJsHVYTZR1...|\n",
						"|A4SVUF-fTwc|How to use Joins ...|Check out my Full...|[Data Analyst, Da...|2021-11-23T11:30:02Z|   160972|     4211|            0|          71|PT14M29S|        hd|  false| 2025-03-09|UC7cs8q-gJRlGwj4A...|\n",
						"|V56izzKDorU|DeepLearningAI Li...|                    |                NULL|2021-03-23T17:17:39Z|        0|        0|            0|           0|     P0D|        sd|  false| 2025-03-09|UCcIXc5mJsHVYTZR1...|\n",
						"|YVtP5UGdgXg|#25 Machine Learn...|The Machine Learn...|                NULL|2022-12-01T13:22:45Z|    38651|      339|            0|           3| PT6M35S|        hd|  false| 2025-03-09|UCcIXc5mJsHVYTZR1...|\n",
						"|1waHlpKiNyY|Train/Dev/Test Se...|Take the Deep Lea...|                NULL|2017-08-25T20:22:46Z|   292134|     1329|            0|          24| PT12M5S|        hd|   true| 2025-03-09|UCcIXc5mJsHVYTZR1...|\n",
						"|dvnsbOtAmYI|How deep learning...|Less than 24 hour...|                NULL|2020-04-14T18:23:26Z|     5324|       88|            0|          10| PT1M13S|        hd|  false| 2025-03-09|UCcIXc5mJsHVYTZR1...|\n",
						"|cRPldarzw-M|             1k Subs|Hey thanks for su...|[mrbeast6000, tit...|2014-04-13T23:53:33Z| 17457950|  1277197|            0|       89347| PT3M15S|        hd|  false| 2025-03-09|UCX6OQ3DkcsbYNE6H...|\n",
						"|RBEgsEVO3T8|Reviewing Maven A...|I'm a big believe...|[Data Analyst, Da...|2023-01-17T12:30:08Z|    27569|      812|            0|          48|PT22M36S|        hd|  false| 2025-03-09|UC7cs8q-gJRlGwj4A...|\n",
						"|RYIiOG4LsvQ|Case Statements i...|Full MySQL Course...|[Data Analyst, Da...|2024-02-13T13:00:19Z|    96099|     1716|            0|          89| PT8M53S|        hd|  false| 2025-03-09|UC7cs8q-gJRlGwj4A...|\n",
						"|5S-zb_h01U4|5 Side Hustle Ide...|For better or wor...|[side hustles for...|2021-10-19T13:00:11Z|     6705|      272|            0|          80|PT13M40S|        hd|  false| 2025-03-09|UCmLGJ3VYBcfRaWbP...|\n",
						"|Z_5cKlrAqcs|The Future Of Dat...|If you enjoyed th...|[data engineering...|2023-01-24T16:21:27Z|    19048|      484|            0|          47| PT12M9S|        hd|  false| 2025-03-09|UCmLGJ3VYBcfRaWbP...|\n",
						"|NUVglXbGBfs|Dogs Opinions On ...|My dogs wanted to...|[Mr.Beast, mr, be...|2015-08-18T20:55:37Z|    97081|     2993|            0|         175| PT1M16S|        hd|  false| 2025-03-09|UCX6OQ3DkcsbYNE6H...|\n",
						"+-----------+--------------------+--------------------+--------------------+--------------------+---------+---------+-------------+------------+--------+----------+-------+-----------+--------------------+\n",
						"only showing top 20 rows\n"
					]
				}
			],
			"source": [
				"df.show()"
			]
		},
		{
			"cell_type": "code",
			"execution_count": 34,
			"metadata": {
				"tags": [],
				"trusted": true,
				"vscode": {
					"languageId": "python_glue_session"
				}
			},
			"outputs": [
				{
					"name": "stdout",
					"output_type": "stream",
					"text": [
						"root\n",
						" |-- videoId: string (nullable = true)\n",
						" |-- title: string (nullable = true)\n",
						" |-- description: string (nullable = true)\n",
						" |-- tags: array (nullable = true)\n",
						" |    |-- element: string (containsNull = true)\n",
						" |-- publishedAt: string (nullable = true)\n",
						" |-- viewCount: string (nullable = true)\n",
						" |-- likeCount: string (nullable = true)\n",
						" |-- favoriteCount: string (nullable = true)\n",
						" |-- commentCount: string (nullable = true)\n",
						" |-- duration: string (nullable = true)\n",
						" |-- definition: string (nullable = true)\n",
						" |-- caption: string (nullable = true)\n",
						" |-- extractDate: date (nullable = true)\n",
						" |-- channelId: string (nullable = true)\n"
					]
				}
			],
			"source": [
				"df.printSchema()"
			]
		},
		{
			"cell_type": "markdown",
			"metadata": {},
			"source": [
				"#### Transforming data"
			]
		},
		{
			"cell_type": "code",
			"execution_count": 9,
			"metadata": {
				"tags": [],
				"trusted": true,
				"vscode": {
					"languageId": "python_glue_session"
				}
			},
			"outputs": [
				{
					"name": "stdout",
					"output_type": "stream",
					"text": [
						"+-----------+--------------------+--------------------+--------------------+---------+---------+-------------+------------+--------+----------+-------+-----------+--------------------+-------------------+--------------------+--------------------+--------------------+----------------------+---------+---------+------------+-----------+------------+----------+\n",
						"|    videoId|               title|         description|                tags|viewCount|likeCount|favoriteCount|commentCount|duration|definition|caption|extractDate|           channelId| publishedAt_in_utc|publishedAt_utc_date|publishedAt_utc_time|publishedAt_timezone|duration_seconds_total|tagsCount|likeRatio|commentRatio|extractYear|extractMonth|extractDay|\n",
						"+-----------+--------------------+--------------------+--------------------+---------+---------+-------------+------------+--------+----------+-------+-----------+--------------------+-------------------+--------------------+--------------------+--------------------+----------------------+---------+---------+------------+-----------+------------+----------+\n",
						"|7uH7_DThtX0|Top 3 Tips on Usi...|Best Tips on how ...|[Data Analyst, Ho...|   331086|    11809|            0|         247| PT6M50S|        hd|  false| 2025-03-09|UC7cs8q-gJRlGwj4A...|2020-11-17 14:11:52|          2020-11-17|            14:11:52|                 GMT|                   410|       18| 35.66747|  0.74602973|       2025|           3|         9|\n",
						"|lVj0RlSxTXk|Best Online Cours...|According to a re...|[big data, data a...|    67210|     2714|            0|         131|PT13M23S|        hd|  false| 2025-03-09|UCmLGJ3VYBcfRaWbP...|2021-04-15 14:00:28|          2021-04-15|            14:00:28|                 GMT|                   803|       17|40.380898|   1.9491147|       2025|           3|         9|\n",
						"|SA7S050n58s|Andrew Ng’s AI Py...|Enroll now: https...|                NULL|    12726|      310|            0|          10| PT3M41S|        hd|  false| 2025-03-09|UCcIXc5mJsHVYTZR1...|2024-09-04 15:43:15|          2024-09-04|            15:43:15|                 GMT|                   221|        0| 24.35958|   0.7857929|       2025|           3|         9|\n",
						"|Ejou8aa5eZk|How Many Rubber B...|I CAN'T BELIEVE T...|      [rubber bands]| 37325501|   917000|            0|       44269|PT10M16S|        hd|   true| 2025-03-09|UCX6OQ3DkcsbYNE6H...|2018-05-22 22:14:01|          2018-05-22|            22:14:01|                 GMT|                   616|        1|24.567654|   1.1860256|       2025|           3|         9|\n",
						"|sE3ZZmYotSs|Call of Duty Ghos...|The video pretty ...|[Black, ops, two,...|   116757|     4061|            0|         578| PT3M50S|        hd|  false| 2025-03-09|UCX6OQ3DkcsbYNE6H...|2013-07-30 20:51:42|          2013-07-30|            20:51:42|                 GMT|                   230|       11| 34.78164|    4.950453|       2025|           3|         9|\n",
						"|OnTTThIzuNU|Keep Track Of Car...|                    |                NULL|151859825|  7436485|            0|       82987|   PT51S|        hd|  false| 2025-03-09|UCX6OQ3DkcsbYNE6H...|2024-03-19 16:00:00|          2024-03-19|            16:00:00|                 GMT|                    51|        0|48.969402|  0.54647106|       2025|           3|         9|\n",
						"|55xKTezZqFo|Which Cloud Shoul...|Which cloud is be...|[aws vs azure vs ...|    23783|      500|            0|          38| PT4M30S|        hd|  false| 2025-03-09|UCmLGJ3VYBcfRaWbP...|2022-08-25 14:51:38|          2022-08-25|            14:51:38|                 GMT|                   270|       21| 21.02342|   1.5977799|       2025|           3|         9|\n",
						"|osA1QpBcxRs|Nobody cares... s...|                    |                NULL|    15691|     1626|            0|          58|   PT36S|        hd|  false| 2025-03-09|UC7cs8q-gJRlGwj4A...|2024-10-24 12:17:57|          2024-10-24|            12:17:57|                 GMT|                    36|        0|103.62628|   3.6963866|       2025|           3|         9|\n",
						"|79UqdjnPEZ0|#8 Machine Learni...|The Machine Learn...|                NULL|    20851|      202|            0|           0| PT9M33S|        hd|  false| 2025-03-09|UCcIXc5mJsHVYTZR1...|2022-04-21 00:00:22|          2022-04-21|            00:00:22|                 GMT|                   573|        0| 9.687785|         0.0|       2025|           3|         9|\n",
						"|A4SVUF-fTwc|How to use Joins ...|Check out my Full...|[Data Analyst, Da...|   160972|     4211|            0|          71|PT14M29S|        hd|  false| 2025-03-09|UC7cs8q-gJRlGwj4A...|2021-11-23 11:30:02|          2021-11-23|            11:30:02|                 GMT|                   869|       16|26.159828|   0.4410705|       2025|           3|         9|\n",
						"|V56izzKDorU|DeepLearningAI Li...|                    |                NULL|        0|        0|            0|           0|     P0D|        sd|  false| 2025-03-09|UCcIXc5mJsHVYTZR1...|2021-03-23 17:17:39|          2021-03-23|            17:17:39|                 GMT|                     0|        0|     NULL|        NULL|       2025|           3|         9|\n",
						"|YVtP5UGdgXg|#25 Machine Learn...|The Machine Learn...|                NULL|    38651|      339|            0|           3| PT6M35S|        hd|  false| 2025-03-09|UCcIXc5mJsHVYTZR1...|2022-12-01 13:22:45|          2022-12-01|            13:22:45|                 GMT|                   395|        0| 8.770795|  0.07761765|       2025|           3|         9|\n",
						"|1waHlpKiNyY|Train/Dev/Test Se...|Take the Deep Lea...|                NULL|   292134|     1329|            0|          24| PT12M5S|        hd|   true| 2025-03-09|UCcIXc5mJsHVYTZR1...|2017-08-25 20:22:46|          2017-08-25|            20:22:46|                 GMT|                   725|        0| 4.549282|  0.08215408|       2025|           3|         9|\n",
						"|dvnsbOtAmYI|How deep learning...|Less than 24 hour...|                NULL|     5324|       88|            0|          10| PT1M13S|        hd|  false| 2025-03-09|UCcIXc5mJsHVYTZR1...|2020-04-14 18:23:26|          2020-04-14|            18:23:26|                 GMT|                    73|        0|16.528925|    1.878287|       2025|           3|         9|\n",
						"|cRPldarzw-M|             1k Subs|Hey thanks for su...|[mrbeast6000, tit...| 17457950|  1277197|            0|       89347| PT3M15S|        hd|  false| 2025-03-09|UCX6OQ3DkcsbYNE6H...|2014-04-13 23:53:33|          2014-04-13|            23:53:33|                 GMT|                   195|       25| 73.15848|   5.1178403|       2025|           3|         9|\n",
						"|RBEgsEVO3T8|Reviewing Maven A...|I'm a big believe...|[Data Analyst, Da...|    27569|      812|            0|          48|PT22M36S|        hd|  false| 2025-03-09|UC7cs8q-gJRlGwj4A...|2023-01-17 12:30:08|          2023-01-17|            12:30:08|                 GMT|                  1356|       11|29.453371|    1.741086|       2025|           3|         9|\n",
						"|RYIiOG4LsvQ|Case Statements i...|Full MySQL Course...|[Data Analyst, Da...|    96099|     1716|            0|          89| PT8M53S|        hd|  false| 2025-03-09|UC7cs8q-gJRlGwj4A...|2024-02-13 13:00:19|          2024-02-13|            13:00:19|                 GMT|                   533|        5|17.856585|  0.92612827|       2025|           3|         9|\n",
						"|5S-zb_h01U4|5 Side Hustle Ide...|For better or wor...|[side hustles for...|     6705|      272|            0|          80|PT13M40S|        hd|  false| 2025-03-09|UCmLGJ3VYBcfRaWbP...|2021-10-19 13:00:11|          2021-10-19|            13:00:11|                 GMT|                   820|       17|40.566742|   11.931395|       2025|           3|         9|\n",
						"|Z_5cKlrAqcs|The Future Of Dat...|If you enjoyed th...|[data engineering...|    19048|      484|            0|          47| PT12M9S|        hd|  false| 2025-03-09|UCmLGJ3VYBcfRaWbP...|2023-01-24 16:21:27|          2023-01-24|            16:21:27|                 GMT|                   729|       17|25.409492|   2.4674506|       2025|           3|         9|\n",
						"|NUVglXbGBfs|Dogs Opinions On ...|My dogs wanted to...|[Mr.Beast, mr, be...|    97081|     2993|            0|         175| PT1M16S|        hd|  false| 2025-03-09|UCX6OQ3DkcsbYNE6H...|2015-08-18 20:55:37|          2015-08-18|            20:55:37|                 GMT|                    76|        7|30.829926|   1.8026184|       2025|           3|         9|\n",
						"+-----------+--------------------+--------------------+--------------------+---------+---------+-------------+------------+--------+----------+-------+-----------+--------------------+-------------------+--------------------+--------------------+--------------------+----------------------+---------+---------+------------+-----------+------------+----------+\n",
						"only showing top 20 rows\n"
					]
				}
			],
			"source": [
				"df_transformed = format_video_df(df)\n",
				"df_transformed.show()"
			]
		},
		{
			"cell_type": "code",
			"execution_count": 10,
			"metadata": {
				"tags": [],
				"trusted": true,
				"vscode": {
					"languageId": "python_glue_session"
				}
			},
			"outputs": [
				{
					"name": "stdout",
					"output_type": "stream",
					"text": [
						"root\n",
						" |-- videoId: string (nullable = true)\n",
						" |-- title: string (nullable = true)\n",
						" |-- description: string (nullable = true)\n",
						" |-- tags: array (nullable = true)\n",
						" |    |-- element: string (containsNull = true)\n",
						" |-- viewCount: integer (nullable = true)\n",
						" |-- likeCount: integer (nullable = true)\n",
						" |-- favoriteCount: string (nullable = true)\n",
						" |-- commentCount: integer (nullable = true)\n",
						" |-- duration: string (nullable = true)\n",
						" |-- definition: string (nullable = true)\n",
						" |-- caption: string (nullable = true)\n",
						" |-- extractDate: date (nullable = true)\n",
						" |-- channelId: string (nullable = true)\n",
						" |-- publishedAt_in_utc: timestamp (nullable = true)\n",
						" |-- publishedAt_utc_date: date (nullable = true)\n",
						" |-- publishedAt_utc_time: string (nullable = true)\n",
						" |-- publishedAt_timezone: string (nullable = true)\n",
						" |-- duration_seconds_total: integer (nullable = false)\n",
						" |-- tagsCount: integer (nullable = false)\n",
						" |-- likeRatio: float (nullable = true)\n",
						" |-- commentRatio: float (nullable = true)\n",
						" |-- extractYear: integer (nullable = true)\n",
						" |-- extractMonth: integer (nullable = true)\n",
						" |-- extractDay: integer (nullable = true)\n"
					]
				}
			],
			"source": [
				"df_transformed.printSchema()"
			]
		},
		{
			"cell_type": "markdown",
			"metadata": {},
			"source": [
				"#### Writing to S3 bucket"
			]
		},
		{
			"cell_type": "code",
			"execution_count": 11,
			"metadata": {
				"tags": [],
				"trusted": true,
				"vscode": {
					"languageId": "python_glue_session"
				}
			},
			"outputs": [
				{
					"name": "stdout",
					"output_type": "stream",
					"text": [
						"'s3://youtube-channel-data-v1-02032025/analysis/video_data/'\n"
					]
				}
			],
			"source": [
				"# Define the S3 path dynamically\n",
				"s3_path_analysis = f\"s3://youtube-channel-data-v1-02032025/analysis/video_data/\"\n",
				"s3_path_analysis"
			]
		},
		{
			"cell_type": "code",
			"execution_count": 12,
			"metadata": {
				"tags": [],
				"trusted": true,
				"vscode": {
					"languageId": "python_glue_session"
				}
			},
			"outputs": [
				{
					"name": "stdout",
					"output_type": "stream",
					"text": [
						"\n"
					]
				}
			],
			"source": [
				"dynamic_frame_transformed_for_analysis = DynamicFrame.fromDF(df_transformed, glueContext, \"dynamic_frame_transformed\")"
			]
		},
		{
			"cell_type": "code",
			"execution_count": 13,
			"metadata": {
				"tags": [],
				"trusted": true,
				"vscode": {
					"languageId": "python_glue_session"
				}
			},
			"outputs": [
				{
					"name": "stdout",
					"output_type": "stream",
					"text": [
						"<awsglue.dynamicframe.DynamicFrame object at 0x7f4a2890bd90>\n"
					]
				}
			],
			"source": [
				"s3output = glueContext.getSink(\n",
				"    path=s3_path_analysis,\n",
				"    connection_type=\"s3\",\n",
				"    updateBehavior=\"UPDATE_IN_DATABASE\",\n",
				"    partitionKeys=['channelId','extractYear','extractMonth','extractDay'],\n",
				"    compression=\"snappy\",\n",
				"    enableUpdateCatalog=True\n",
				")\n",
				"s3output.setCatalogInfo(catalogDatabase=\"glue_metadata_db_analysis_files\", catalogTableName=\"video_data\")\n",
				"s3output.setFormat(\"glueparquet\")\n",
				"s3output.writeFrame(dynamic_frame_transformed_for_analysis)"
			]
		}
	],
	"metadata": {
		"kernelspec": {
			"display_name": "Glue PySpark",
			"language": "python",
			"name": "glue_pyspark"
		},
		"language_info": {
			"codemirror_mode": {
				"name": "python",
				"version": 3
			},
			"file_extension": ".py",
			"mimetype": "text/x-python",
			"name": "Python_Glue_Session",
			"pygments_lexer": "python3"
		}
	},
	"nbformat": 4,
	"nbformat_minor": 4
}
