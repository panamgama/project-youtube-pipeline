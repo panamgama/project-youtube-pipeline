{
	"cells": [
		{
			"cell_type": "markdown",
			"metadata": {
				"editable": true,
				"trusted": true
			},
			"source": [
				"# Transform Channel Data - Notebook"
			]
		},
		{
			"cell_type": "markdown",
			"metadata": {
				"editable": true,
				"trusted": true
			},
			"source": [
				"####  Set up and start session\n"
			]
		},
		{
			"cell_type": "code",
			"execution_count": 1,
			"metadata": {
				"editable": true,
				"trusted": true,
				"vscode": {
					"languageId": "python_glue_session"
				}
			},
			"outputs": [
				{
					"name": "stdout",
					"output_type": "stream",
					"text": [
						"Welcome to the Glue Interactive Sessions Kernel\n",
						"For more information on available magic commands, please type %help in any new cell.\n",
						"\n",
						"Please view our Getting Started page to access the most up-to-date information on the Interactive Sessions kernel: https://docs.aws.amazon.com/glue/latest/dg/interactive-sessions.html\n",
						"Installed kernel version: 1.0.7 \n",
						"Current idle_timeout is None minutes.\n",
						"idle_timeout has been set to 2880 minutes.\n",
						"Setting Glue version to: 5.0\n",
						"Previous worker type: None\n",
						"Setting new worker type to: G.1X\n",
						"Previous number of workers: None\n",
						"Setting new number of workers to: 5\n",
						"Trying to create a Glue session for the kernel.\n",
						"Session Type: glueetl\n",
						"Worker Type: G.1X\n",
						"Number of Workers: 5\n",
						"Idle Timeout: 2880\n",
						"Session ID: 231c86c2-0ba3-46d8-8167-3192ecc88b37\n",
						"Applying the following default arguments:\n",
						"--glue_kernel_version 1.0.7\n",
						"--enable-glue-datacatalog true\n",
						"Waiting for session 231c86c2-0ba3-46d8-8167-3192ecc88b37 to get into ready status...\n",
						"Session 231c86c2-0ba3-46d8-8167-3192ecc88b37 has been created.\n",
						"\n"
					]
				}
			],
			"source": [
				"%idle_timeout 2880\n",
				"%glue_version 5.0\n",
				"%worker_type G.1X\n",
				"%number_of_workers 5\n",
				"\n",
				"import sys\n",
				"from awsglue.transforms import *\n",
				"from awsglue.utils import getResolvedOptions\n",
				"from pyspark.context import SparkContext\n",
				"from awsglue.context import GlueContext\n",
				"from awsglue.job import Job\n",
				"from awsglue.dynamicframe import DynamicFrame\n",
				"from pyspark.sql.functions import col, when, year, month, dayofmonth\n",
				"\n",
				"sc = SparkContext.getOrCreate()\n",
				"glueContext = GlueContext(sc)\n",
				"spark = glueContext.spark_session\n",
				"job = Job(glueContext)"
			]
		},
		{
			"cell_type": "code",
			"execution_count": 8,
			"metadata": {
				"tags": [],
				"trusted": true,
				"vscode": {
					"languageId": "python_glue_session"
				}
			},
			"outputs": [
				{
					"name": "stdout",
					"output_type": "stream",
					"text": [
						"\n"
					]
				}
			],
			"source": [
				"def format_channel_df(base_df):\n",
				"    \"\"\"\n",
				"    Format table containing details of YT channels\n",
				"    \"\"\"\n",
				"    \n",
				"    base_df = base_df.withColumn(\n",
				"    \"channelTier\",\n",
				"    when(col(\"subscriberCount\") < 999, \"Graphite\")\n",
				"    .when((col(\"subscriberCount\") >= 1000) & (col(\"subscriberCount\") < 9999), \"Opal\")\n",
				"    .when((col(\"subscriberCount\") >= 10000) & (col(\"subscriberCount\") < 99999), \"Bronze\")\n",
				"    .when((col(\"subscriberCount\") >= 100000) & (col(\"subscriberCount\") < 499999), \"Silver-Low\")\n",
				"    .when((col(\"subscriberCount\") >= 500000) & (col(\"subscriberCount\") < 999999), \"Silver-High\")\n",
				"    .when((col(\"subscriberCount\") >= 1000000) & (col(\"subscriberCount\") < 9999999), \"Gold\")\n",
				"    .otherwise(\"Diamond\")\n",
				"    )\n",
				"    # Seperating year, month and date of Extraction Date - allowing partitioning\n",
				"    base_df = base_df.withColumn('extractYear',year(col('extractDate')))\n",
				"    base_df = base_df.withColumn('extractMonth',month(col('extractDate')))\n",
				"    base_df = base_df.withColumn(\"extractDay\", dayofmonth(col(\"extractDate\")))\n",
				"    \n",
				"    return base_df"
			]
		},
		{
			"cell_type": "markdown",
			"metadata": {},
			"source": [
				"#### Configuring current date to read from S3 bucket"
			]
		},
		{
			"cell_type": "code",
			"execution_count": 14,
			"metadata": {
				"tags": [],
				"trusted": true,
				"vscode": {
					"languageId": "python_glue_session"
				}
			},
			"outputs": [
				{
					"name": "stdout",
					"output_type": "stream",
					"text": [
						"'2025/03/06'\n"
					]
				}
			],
			"source": [
				"from datetime import datetime\n",
				"current_date = datetime.now().strftime(\"%Y/%m/%d\")\n",
				"#current_date = \"2025/03/09\"\n",
				"current_date"
			]
		},
		{
			"cell_type": "code",
			"execution_count": 3,
			"metadata": {
				"tags": [],
				"trusted": true,
				"vscode": {
					"languageId": "python_glue_session"
				}
			},
			"outputs": [
				{
					"name": "stdout",
					"output_type": "stream",
					"text": [
						"'s3://youtube-channel-data-v1-02032025/raw/2025/03/05/channel_data.parquet'\n"
					]
				}
			],
			"source": [
				"s3_path = f\"s3://youtube-channel-data-v1-02032025/raw/{current_date}/channel_data.parquet\"\n",
				"s3_path"
			]
		},
		{
			"cell_type": "markdown",
			"metadata": {},
			"source": [
				"#### Reading from S3 bucket"
			]
		},
		{
			"cell_type": "code",
			"execution_count": 4,
			"metadata": {
				"tags": [],
				"trusted": true,
				"vscode": {
					"languageId": "python_glue_session"
				}
			},
			"outputs": [
				{
					"name": "stdout",
					"output_type": "stream",
					"text": [
						"\n"
					]
				}
			],
			"source": [
				"dynamic_frame = glueContext.create_dynamic_frame.from_options(\n",
				"    connection_type=\"s3\",  # Source type\n",
				"    connection_options={\"paths\": [s3_path]},  # Path to the S3 data\n",
				"    format=\"parquet\"  # Specify the format of the data (parquet in this case)\n",
				")"
			]
		},
		{
			"cell_type": "code",
			"execution_count": 5,
			"metadata": {
				"tags": [],
				"trusted": true,
				"vscode": {
					"languageId": "python_glue_session"
				}
			},
			"outputs": [
				{
					"name": "stdout",
					"output_type": "stream",
					"text": [
						"/usr/lib/spark/python/lib/pyspark.zip/pyspark/sql/dataframe.py:147: UserWarning: DataFrame constructor is internal. Do not directly use it.\n"
					]
				}
			],
			"source": [
				"# Convert DynamicFrame to DataFrame for processing\n",
				"df = dynamic_frame.toDF()"
			]
		},
		{
			"cell_type": "code",
			"execution_count": 6,
			"metadata": {
				"tags": [],
				"trusted": true,
				"vscode": {
					"languageId": "python_glue_session"
				}
			},
			"outputs": [
				{
					"name": "stdout",
					"output_type": "stream",
					"text": [
						"root\n",
						" |-- channelId: string (nullable = true)\n",
						" |-- channelName: string (nullable = true)\n",
						" |-- subscriberCount: long (nullable = true)\n",
						" |-- videoCount: long (nullable = true)\n",
						" |-- viewCount: long (nullable = true)\n",
						" |-- uploadPlaylistId: string (nullable = true)\n",
						" |-- extractDate: date (nullable = true)\n"
					]
				}
			],
			"source": [
				"df.printSchema()"
			]
		},
		{
			"cell_type": "markdown",
			"metadata": {},
			"source": [
				"#### Transforming dataframe"
			]
		},
		{
			"cell_type": "code",
			"execution_count": 9,
			"metadata": {
				"tags": [],
				"trusted": true,
				"vscode": {
					"languageId": "python_glue_session"
				}
			},
			"outputs": [
				{
					"name": "stdout",
					"output_type": "stream",
					"text": [
						"+--------------------+--------------------+---------------+----------+-----------+--------------------+-----------+-----------+-----------+------------+----------+\n",
						"|           channelId|         channelName|subscriberCount|videoCount|  viewCount|    uploadPlaylistId|extractDate|channelTier|extractYear|extractMonth|extractDay|\n",
						"+--------------------+--------------------+---------------+----------+-----------+--------------------+-----------+-----------+-----------+------------+----------+\n",
						"|UC7cs8q-gJRlGwj4A...|    Alex The Analyst|         999000|       349|   46609471|UU7cs8q-gJRlGwj4A...| 2025-03-05|Silver-High|       2025|           3|         5|\n",
						"|UCVpWDEFirsEfz2WG...|Tiny Technical Tu...|          76300|       209|    4983727|UUVpWDEFirsEfz2WG...| 2025-03-05|     Bronze|       2025|           3|         5|\n",
						"|UCmLGJ3VYBcfRaWbP...|    Seattle Data Guy|         108000|       293|    5844552|UUmLGJ3VYBcfRaWbP...| 2025-03-05| Silver-Low|       2025|           3|         5|\n",
						"|UCAq9f7jFEA7Mtl3q...|      Data with Zach|         167000|        60|    2142700|UUAq9f7jFEA7Mtl3q...| 2025-03-05| Silver-Low|       2025|           3|         5|\n",
						"|UCcIXc5mJsHVYTZR1...|      DeepLearningAI|         382000|       467|   21449121|UUcIXc5mJsHVYTZR1...| 2025-03-05| Silver-Low|       2025|           3|         5|\n",
						"|UCX6OQ3DkcsbYNE6H...|             MrBeast|      370000000|       851|74386488465|UUX6OQ3DkcsbYNE6H...| 2025-03-05|    Diamond|       2025|           3|         5|\n",
						"+--------------------+--------------------+---------------+----------+-----------+--------------------+-----------+-----------+-----------+------------+----------+\n"
					]
				}
			],
			"source": [
				"df_transformed = format_channel_df(df)\n",
				"df_transformed.show()"
			]
		},
		{
			"cell_type": "code",
			"execution_count": 10,
			"metadata": {
				"tags": [],
				"trusted": true,
				"vscode": {
					"languageId": "python_glue_session"
				}
			},
			"outputs": [
				{
					"name": "stdout",
					"output_type": "stream",
					"text": [
						"root\n",
						" |-- channelId: string (nullable = true)\n",
						" |-- channelName: string (nullable = true)\n",
						" |-- subscriberCount: long (nullable = true)\n",
						" |-- videoCount: long (nullable = true)\n",
						" |-- viewCount: long (nullable = true)\n",
						" |-- uploadPlaylistId: string (nullable = true)\n",
						" |-- extractDate: date (nullable = true)\n",
						" |-- channelTier: string (nullable = false)\n",
						" |-- extractYear: integer (nullable = true)\n",
						" |-- extractMonth: integer (nullable = true)\n",
						" |-- extractDay: integer (nullable = true)\n"
					]
				}
			],
			"source": [
				"df_transformed.printSchema()"
			]
		},
		{
			"cell_type": "markdown",
			"metadata": {},
			"source": [
				"#### Writing back to S3 bucket"
			]
		},
		{
			"cell_type": "code",
			"execution_count": 11,
			"metadata": {
				"tags": [],
				"trusted": true,
				"vscode": {
					"languageId": "python_glue_session"
				}
			},
			"outputs": [
				{
					"name": "stdout",
					"output_type": "stream",
					"text": [
						"\n"
					]
				}
			],
			"source": [
				"dynamic_frame_transformed_for_analysis = DynamicFrame.fromDF(df_transformed, glueContext, \"dynamic_frame_transformed\")"
			]
		},
		{
			"cell_type": "code",
			"execution_count": 12,
			"metadata": {
				"tags": [],
				"trusted": true,
				"vscode": {
					"languageId": "python_glue_session"
				}
			},
			"outputs": [
				{
					"name": "stdout",
					"output_type": "stream",
					"text": [
						"'s3://youtube-channel-data-v1-02032025/analysis/channel_data/'\n"
					]
				}
			],
			"source": [
				"# Define the S3 path dynamically\n",
				"s3_path_analysis = f\"s3://youtube-channel-data-v1-02032025/analysis/channel_data/\"\n",
				"s3_path_analysis"
			]
		},
		{
			"cell_type": "code",
			"execution_count": null,
			"metadata": {
				"tags": [],
				"trusted": true,
				"vscode": {
					"languageId": "python_glue_session"
				}
			},
			"outputs": [
				{
					"name": "stdout",
					"output_type": "stream",
					"text": [
						"<awsglue.dynamicframe.DynamicFrame object at 0x7ff73e88bf90>\n"
					]
				}
			],
			"source": [
				"# Write file to S3\n",
				"s3output = glueContext.getSink(\n",
				"    path=s3_path_analysis,\n",
				"    connection_type=\"s3\",\n",
				"    updateBehavior=\"UPDATE_IN_DATABASE\",\n",
				"    partitionKeys=['channelId','extractYear','extractMonth','extractDay'],\n",
				"    compression=\"snappy\",\n",
				"    enableUpdateCatalog=True\n",
				")\n",
				"s3output.setCatalogInfo(catalogDatabase=\"glue_metadata_db_analysis_files\", catalogTableName=\"channel_data\")\n",
				"s3output.setFormat(\"glueparquet\")\n",
				"s3output.writeFrame(dynamic_frame_transformed_for_analysis)"
			]
		}
	],
	"metadata": {
		"kernelspec": {
			"display_name": "Glue PySpark",
			"language": "python",
			"name": "glue_pyspark"
		},
		"language_info": {
			"codemirror_mode": {
				"name": "python",
				"version": 3
			},
			"file_extension": ".py",
			"mimetype": "text/x-python",
			"name": "Python_Glue_Session",
			"pygments_lexer": "python3"
		}
	},
	"nbformat": 4,
	"nbformat_minor": 4
}
